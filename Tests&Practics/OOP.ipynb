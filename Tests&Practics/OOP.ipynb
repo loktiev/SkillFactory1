{
 "cells": [
  {
   "cell_type": "code",
   "execution_count": 1,
   "metadata": {},
   "outputs": [],
   "source": [
    "import pandas as pd\n",
    "import numpy as np\n",
    "import matplotlib.pyplot as plt\n",
    "import seaborn as sns\n",
    "from datetime import datetime\n",
    "import os"
   ]
  },
  {
   "cell_type": "code",
   "execution_count": 3,
   "metadata": {},
   "outputs": [
    {
     "name": "stdout",
     "output_type": "stream",
     "text": [
      "Total amount: 10\n",
      "Total amount: 20\n"
     ]
    }
   ],
   "source": [
    "# По-прежнему пока создаём пустой класс  \n",
    "class SalesReport():\n",
    "    def print_report(self):  \n",
    "        print(\"Total amount:\", self.amount) \n",
    "  \n",
    "# Создаём первый отчёт по продажам   (первый экземпляр класса)\n",
    "report = SalesReport()  \n",
    "  \n",
    "# Мы добавим новый атрибут объекту.  (новое св-во экземпляру класса)\n",
    "# Для этого через точку напишем имя атрибута и дальше как с обычной переменной  (ИмяЭкземпляраКласса.ИмяСвойство=Значение)\n",
    "report.amount = 10  \n",
    "  \n",
    "# То же самое делаем для второго экземпляра класса.  \n",
    "report_2 = SalesReport()  \n",
    "report_2.amount = 20  \n",
    "  \n",
    "# Создадим вспомогательную функцию, она будет печатать общую сумму из отчёта  \n",
    "report.print_report()\n",
    "report_2.print_report()\n",
    "      \n",
    "# print_report(report) # => Total amount: 10  \n",
    "# print_report(report_2) # => Total amount: 20 \n"
   ]
  },
  {
   "cell_type": "code",
   "execution_count": 6,
   "metadata": {},
   "outputs": [
    {
     "name": "stdout",
     "output_type": "stream",
     "text": [
      "Total sales: 0\n",
      "Total sales: 40000\n"
     ]
    }
   ],
   "source": [
    "class SalesReport():  \n",
    "    # Позволим добавлять много разных сделок  \n",
    "    def __init__(self):\n",
    "        # При создании экземпляра класса создадим список для хранения всех сделок   \n",
    "        self.deals = []\n",
    "        \n",
    "    def add_deal(self, amount):   \n",
    "        # Добавим текущую сделку  \n",
    "        self.deals.append(amount)  \n",
    "          \n",
    "    # Посчитаем сумму всех сделок      \n",
    "    def total_amount(self):  \n",
    "        return sum(self.deals)  \n",
    "      \n",
    "    def print_report(self):  \n",
    "        print(\"Total sales:\", self.total_amount())  \n",
    "          \n",
    "# Используем наши новые возможности  \n",
    "# Добавим две сделки и распечатаем отчёт  \n",
    "report = SalesReport()\n",
    "report.print_report()\n",
    "report.add_deal(10_000)  \n",
    "report.add_deal(30_000)  \n",
    "report.print_report() # => Total sales: 40000  \n"
   ]
  },
  {
   "cell_type": "code",
   "execution_count": 7,
   "metadata": {},
   "outputs": [
    {
     "name": "stdout",
     "output_type": "stream",
     "text": [
      "Manager: Ivan Taranov\n",
      "Total sales: 40000\n"
     ]
    }
   ],
   "source": [
    "class SalesReport():  \n",
    "    # Будем принимать в __init__ ещё и имя менеджера  \n",
    "    def __init__(self, manager_name):  \n",
    "        self.deals = []  \n",
    "        self.manager_name = manager_name  \n",
    "          \n",
    "    def add_deal(self, amount):   \n",
    "        self.deals.append(amount)  \n",
    "          \n",
    "    def total_amount(self):  \n",
    "        return sum(self.deals)  \n",
    "      \n",
    "    def print_report(self):  \n",
    "        # И добавлять это имя в отчёт  \n",
    "        print(\"Manager:\", self.manager_name)  \n",
    "        print(\"Total sales:\", self.total_amount())  \n",
    "          \n",
    "   \n",
    "report = SalesReport(\"Ivan Taranov\")  \n",
    "report.add_deal(10_000)  \n",
    "report.add_deal(30_000)  \n",
    "report.print_report()  \n",
    "# =>   \n",
    "# Manager: Ivan Taranov  \n",
    "# Total sales: 40000"
   ]
  },
  {
   "cell_type": "code",
   "execution_count": 18,
   "metadata": {},
   "outputs": [
    {
     "name": "stdout",
     "output_type": "stream",
     "text": [
      "[27, 18, 46, 51, 99, 70, 48, 49, 6]\n"
     ]
    }
   ],
   "source": [
    "numbers = [22, 13, 45, 50, 98, 69, 43, 44, 1]\n",
    "new_numbers = [n + 1 if n >= 45 else n+5 for n in numbers]\n",
    "print(new_numbers)"
   ]
  },
  {
   "cell_type": "code",
   "execution_count": 26,
   "metadata": {},
   "outputs": [
    {
     "name": "stdout",
     "output_type": "stream",
     "text": [
      "[1.0, 17.0, 4.0, 0.0, 8.0]\n",
      "6.892024376045111\n",
      "4.0\n"
     ]
    }
   ],
   "source": [
    "import statistics  \n",
    "  \n",
    "class DataFrame():  \n",
    "    def __init__(self, column, fill_value=0):  \n",
    "        # Инициализируем атрибуты  \n",
    "        self.column = column  \n",
    "        self.fill_value = fill_value  \n",
    "        # Заполним пропуски  \n",
    "        self.fill_missed()  \n",
    "        # Конвертируем все элементы в числа  \n",
    "        self.to_float()  \n",
    "          \n",
    "    def fill_missed(self):  \n",
    "        # self.column = [self.fill_value for value in self.column]\n",
    "        for i, value in enumerate(self.column):  \n",
    "            if value is None or value == '':  \n",
    "                self.column[i] = self.fill_value  \n",
    "                  \n",
    "    def to_float(self):  \n",
    "        self.column = [float(value) for value in self.column]  \n",
    "      \n",
    "    def median(self):  \n",
    "        return statistics.median(self.column)  \n",
    "      \n",
    "    def mean(self):  \n",
    "        return statistics.mean(self.column)  \n",
    "      \n",
    "    def deviation(self):  \n",
    "        return statistics.stdev(self.column)  \n",
    "      \n",
    "  \n",
    "      \n",
    "# Воспользуемся классом  \n",
    "df = DataFrame([\"1\", 17, 4, None, 8])  \n",
    "  \n",
    "print(df.column)  \n",
    "# => [1.0, 17.0, 4.0, 0.0, 8.0]  \n",
    "print(df.deviation())  \n",
    "# => 6.89  \n",
    "print(df.median())  \n",
    "# => 4.0 "
   ]
  },
  {
   "cell_type": "code",
   "execution_count": 27,
   "metadata": {},
   "outputs": [
    {
     "name": "stdout",
     "output_type": "stream",
     "text": [
      "{'perfomance': [10, 20, 10], 'clients': {'Romashka': 10, 'Vector': 34}}\n"
     ]
    }
   ],
   "source": [
    "import pickle  \n",
    "from datetime import datetime  \n",
    "from os import path  \n",
    "  \n",
    "class Dumper():  \n",
    "    def __init__(self, archive_dir=\"archive/\"):  \n",
    "        self.archive_dir = archive_dir  \n",
    "          \n",
    "    def dump(self, data):  \n",
    "        # Библиотека pickle позволяет доставать и класть объекты в файл  \n",
    "        with open(self.get_file_name(), 'wb') as file:  \n",
    "            pickle.dump(data, file)  \n",
    "              \n",
    "    def load_for_day(self, day):  \n",
    "        file_name = path.join(self.archive_dir, day + \".pkl\")   \n",
    "        with open(file_name, 'rb') as file:  \n",
    "            sets = pickle.load(file)  \n",
    "        return sets  \n",
    "          \n",
    "    # возвращает корректное имя для файла   \n",
    "    def get_file_name(self):   \n",
    "        today = datetime.now().strftime(\"%y-%m-%d\")   \n",
    "        return path.join(self.archive_dir, today + \".pkl\")  \n",
    "      \n",
    "      \n",
    "# Пример использования  \n",
    "  \n",
    "data = {  \n",
    "    'perfomance': [10, 20, 10],  \n",
    "    'clients': {\"Romashka\": 10, \"Vector\": 34}  \n",
    "}  \n",
    "  \n",
    "  \n",
    "dumper = Dumper()  \n",
    "  \n",
    "# Сохраним данные  \n",
    "dumper.dump(data)  \n",
    "  \n",
    "# Восстановим для сегодняшней даты  \n",
    "file_name = datetime.now().strftime(\"%y-%m-%d\")\n",
    "restored_data = dumper.load_for_day(file_name)\n",
    "print(restored_data)  \n",
    "# => {'perfomance': [10, 20, 10], 'clients': {'Romashka': 10, 'Vector': 34}}  "
   ]
  },
  {
   "cell_type": "code",
   "execution_count": 29,
   "metadata": {},
   "outputs": [
    {
     "name": "stdout",
     "output_type": "stream",
     "text": [
      "year: 2024\n",
      "month: 04\n",
      "day: 18\n",
      "time: 23:14:22\n",
      "date and time: 04/18/2024, 23:14:22\n"
     ]
    }
   ],
   "source": [
    "now = datetime.now() # current date and time\n",
    "\n",
    "year = now.strftime(\"%Y\")\n",
    "print(\"year:\", year)\n",
    "\n",
    "month = now.strftime(\"%m\")\n",
    "print(\"month:\", month)\n",
    "\n",
    "day = now.strftime(\"%d\")\n",
    "print(\"day:\", day)\n",
    "\n",
    "time = now.strftime(\"%H:%M:%S\")\n",
    "print(\"time:\", time)\n",
    "\n",
    "date_time = now.strftime(\"%m/%d/%Y, %H:%M:%S\")\n",
    "print(\"date and time:\",date_time)\t"
   ]
  },
  {
   "cell_type": "code",
   "execution_count": 44,
   "metadata": {},
   "outputs": [
    {
     "name": "stdout",
     "output_type": "stream",
     "text": [
      "{'info': None, 'warning': None, 'error': None, 'all': None}\n"
     ]
    },
    {
     "data": {
      "text/plain": [
       "{'all': 'Loktiev Boris Iv.'}"
      ]
     },
     "execution_count": 44,
     "metadata": {},
     "output_type": "execute_result"
    }
   ],
   "source": [
    "import pickle  \n",
    "from os import path  \n",
    "# Введите свое решение ниже\n",
    "class OwnLogger():\n",
    "    def __init__(self, logs = {\"info\": None, \"warning\": None, \"error\": None, \"all\": None}):\n",
    "        self.logs = logs\n",
    "        \n",
    "    def log(self, message, level):\n",
    "        # Библиотека pickle позволяет доставать и класть объекты в файл  \n",
    "        self.data = {  \n",
    "                        level: message\n",
    "                    }  \n",
    "        with open('archive/file1.pkl', 'wb') as file:  \n",
    "            pickle.dump(self.data, file)\n",
    "    \n",
    "    def show_last(self, level = 'all'):\n",
    "        file_name = path.join('archive/file1.pkl')\n",
    "        # file_name = 'archive/file1.pkl'\n",
    "        # print(file_name)\n",
    "        with open(file_name, 'rb') as file:  \n",
    "            sets = pickle.load(file)  \n",
    "        return sets\n",
    "    # def show_las(self, level = 'all'):\n",
    "    #     def load_for_day(self, day):  \n",
    "    #     file_name = path.join(self.archive_dir, day + \".pkl\")   \n",
    "    #     with open(file_name, 'rb') as file:  \n",
    "    #         sets = pickle.load(file)  \n",
    "    #     return sets\n",
    "        \n",
    "\n",
    "logger = OwnLogger()\n",
    "print(logger.logs)\n",
    "\n",
    "logger.log(\"System started\", \"info\")\n",
    "logger.log(\"Loktiev Boris Iv.\", \"all\")\n",
    "\n",
    "logger.show_last(\"all\")\n",
    "# # None\n",
    "# # Некоторые интерпретаторы Python могут не выводить None, тогда в этой проверке у вас будет пустая строка\n",
    "# logger.log(\"Connection instable\", \"warning\")\n",
    "# logger.log(\"Connection lost\", \"error\")\n",
    "\n",
    "# logger.show_last()\n",
    "# # Connection lost\n",
    "# logger.show_last(\"info\")\n",
    "# # System started\n"
   ]
  },
  {
   "cell_type": "code",
   "execution_count": 45,
   "metadata": {},
   "outputs": [
    {
     "name": "stdout",
     "output_type": "stream",
     "text": [
      "{'all': 'Loktiev Boris Iv.'}\n"
     ]
    }
   ],
   "source": [
    "print(logger.data)"
   ]
  },
  {
   "cell_type": "code",
   "execution_count": 49,
   "metadata": {},
   "outputs": [
    {
     "data": {
      "text/plain": [
       "'Connection lost'"
      ]
     },
     "execution_count": 49,
     "metadata": {},
     "output_type": "execute_result"
    }
   ],
   "source": [
    "class OwnLogger():\n",
    "    def __init__(self):\n",
    "        self.logs = {\"info\": None, \"warning\": None, \"error\": None, \"all\": None}\n",
    "    def log(self, message, level):\n",
    "        self.logs[level] = message\n",
    "        self.logs['all'] = message\n",
    "    def show_last(self, level='all'):\n",
    "        return self.logs[level]\n",
    "logger = OwnLogger()\n",
    "logger.log(\"System started\", \"info\")\n",
    "logger.show_last(\"error\")\n",
    "# None\n",
    "# Некоторые интерпретаторы Python могут не выводить None, тогда в этой проверке у вас будет пустая строка\n",
    "logger.log(\"Connection instable\", \"warning\")\n",
    "logger.log(\"Connection lost\", \"error\")\n",
    "\n",
    "logger.show_last()\n",
    "# Connection lost\n",
    "# logger.show_last(\"info\")\n",
    "# System started\n",
    "logger.show_last('error')"
   ]
  },
  {
   "cell_type": "code",
   "execution_count": 51,
   "metadata": {},
   "outputs": [
    {
     "name": "stdout",
     "output_type": "stream",
     "text": [
      "c:\\Users\\dlokt\\VSProjects\\Python\\SkillFactory\\Tests&Practics\n"
     ]
    }
   ],
   "source": [
    "start_path = os.getcwd()\n",
    "print(start_path) # /home/nbuser/library"
   ]
  },
  {
   "cell_type": "code",
   "execution_count": 52,
   "metadata": {},
   "outputs": [
    {
     "data": {
      "text/plain": [
       "'c:\\\\Users\\\\dlokt\\\\VSProjects\\\\Python\\\\SkillFactory'"
      ]
     },
     "execution_count": 52,
     "metadata": {},
     "output_type": "execute_result"
    }
   ],
   "source": [
    "os.chdir(\"..\") # подняться на один уровень выше\n",
    "os.getcwd() # '/home/nbuser'"
   ]
  },
  {
   "cell_type": "code",
   "execution_count": 53,
   "metadata": {},
   "outputs": [
    {
     "data": {
      "text/plain": [
       "'c:\\\\Users\\\\dlokt\\\\VSProjects\\\\Python\\\\SkillFactory\\\\Tests&Practics'"
      ]
     },
     "execution_count": 53,
     "metadata": {},
     "output_type": "execute_result"
    }
   ],
   "source": [
    "os.chdir(start_path)\n",
    "os.getcwd() # '/home/nbuser/library'"
   ]
  },
  {
   "cell_type": "code",
   "execution_count": 54,
   "metadata": {},
   "outputs": [
    {
     "name": "stdout",
     "output_type": "stream",
     "text": [
      "['archive', 'data', 'OOP.ipynb', 'py14_9_12Tasks.ipynb', 'sber_fl.ipynb', 'VisualTask.ipynb']\n",
      "Файл отсутствует в данной директории\n"
     ]
    }
   ],
   "source": [
    "print(os.listdir()) # ['SnapchatLoader', 'FBLoader', 'tmp.py', '.gitignore', 'venv', '.git']\n",
    "\n",
    "if 'tmp.py' not in os.listdir():\n",
    "    print(\"Файл отсутствует в данной директории\")"
   ]
  },
  {
   "cell_type": "code",
   "execution_count": 55,
   "metadata": {},
   "outputs": [
    {
     "name": "stdout",
     "output_type": "stream",
     "text": [
      "c:\\Users\\dlokt\\VSProjects\\Python\\SkillFactory\\Tests&Practics\n",
      "c:\\Users\\dlokt\\VSProjects\\Python\\SkillFactory\\Tests&Practics\\test\n"
     ]
    }
   ],
   "source": [
    "print(start_path)\n",
    "print(os.path.join(start_path, 'test'))"
   ]
  },
  {
   "cell_type": "code",
   "execution_count": 56,
   "metadata": {},
   "outputs": [
    {
     "data": {
      "text/plain": [
       "'c:\\\\Users\\\\dlokt\\\\VSProjects\\\\Python\\\\SkillFactory\\\\Tests&Practics'"
      ]
     },
     "execution_count": 56,
     "metadata": {},
     "output_type": "execute_result"
    }
   ],
   "source": [
    "os.getcwd()"
   ]
  },
  {
   "cell_type": "code",
   "execution_count": 57,
   "metadata": {},
   "outputs": [
    {
     "name": "stdout",
     "output_type": "stream",
     "text": [
      "Текущая директория c:\\Users\\dlokt\\VSProjects\\Python\\SkillFactory\\Tests&Practics\n",
      "---\n",
      "Список папок ['archive', 'data']\n",
      "---\n",
      "Список файлов ['OOP.ipynb', 'py14_9_12Tasks.ipynb', 'sber_fl.ipynb', 'VisualTask.ipynb']\n",
      "---\n",
      "Все пути:\n",
      "Файл  c:\\Users\\dlokt\\VSProjects\\Python\\SkillFactory\\Tests&Practics\\OOP.ipynb\n",
      "Файл  c:\\Users\\dlokt\\VSProjects\\Python\\SkillFactory\\Tests&Practics\\py14_9_12Tasks.ipynb\n",
      "Файл  c:\\Users\\dlokt\\VSProjects\\Python\\SkillFactory\\Tests&Practics\\sber_fl.ipynb\n",
      "Файл  c:\\Users\\dlokt\\VSProjects\\Python\\SkillFactory\\Tests&Practics\\VisualTask.ipynb\n",
      "Папка  c:\\Users\\dlokt\\VSProjects\\Python\\SkillFactory\\Tests&Practics\\archive\n",
      "Папка  c:\\Users\\dlokt\\VSProjects\\Python\\SkillFactory\\Tests&Practics\\data\n",
      "===\n",
      "Текущая директория c:\\Users\\dlokt\\VSProjects\\Python\\SkillFactory\\Tests&Practics\\archive\n",
      "---\n",
      "Папок нет\n",
      "---\n",
      "Список файлов ['24-04-18.pkl', 'file1.pkl']\n",
      "---\n",
      "Файл  c:\\Users\\dlokt\\VSProjects\\Python\\SkillFactory\\Tests&Practics\\archive\\24-04-18.pkl\n",
      "Файл  c:\\Users\\dlokt\\VSProjects\\Python\\SkillFactory\\Tests&Practics\\archive\\file1.pkl\n",
      "===\n",
      "Текущая директория c:\\Users\\dlokt\\VSProjects\\Python\\SkillFactory\\Tests&Practics\\data\n",
      "---\n",
      "Папок нет\n",
      "---\n",
      "Список файлов ['churn.csv', 'churn.zip', 'diabetes_data.csv', 'sber_data.csv']\n",
      "---\n",
      "Файл  c:\\Users\\dlokt\\VSProjects\\Python\\SkillFactory\\Tests&Practics\\data\\churn.csv\n",
      "Файл  c:\\Users\\dlokt\\VSProjects\\Python\\SkillFactory\\Tests&Practics\\data\\churn.zip\n",
      "Файл  c:\\Users\\dlokt\\VSProjects\\Python\\SkillFactory\\Tests&Practics\\data\\diabetes_data.csv\n",
      "Файл  c:\\Users\\dlokt\\VSProjects\\Python\\SkillFactory\\Tests&Practics\\data\\sber_data.csv\n",
      "===\n"
     ]
    }
   ],
   "source": [
    "def walk_desc(path=None):\n",
    "    start_path = path if path is not None else os.getcwd()\n",
    "\n",
    "    for root, dirs, files in os.walk(start_path):\n",
    "        print(\"Текущая директория\", root)\n",
    "        print(\"---\")\n",
    "\n",
    "        if dirs:\n",
    "            print(\"Список папок\", dirs)\n",
    "        else:\n",
    "            print(\"Папок нет\")\n",
    "        print(\"---\")\n",
    "\n",
    "        if files:\n",
    "            print(\"Список файлов\", files)\n",
    "        else:\n",
    "            print(\"Файлов нет\")\n",
    "        print(\"---\")\n",
    "\n",
    "        if files and dirs:\n",
    "            print(\"Все пути:\")\n",
    "        for f in files:\n",
    "            print(\"Файл \", os.path.join(root, f))\n",
    "        for d in dirs:\n",
    "            print(\"Папка \", os.path.join(root, d))\n",
    "        print(\"===\")\n",
    "\n",
    "walk_desc()"
   ]
  },
  {
   "cell_type": "markdown",
   "metadata": {},
   "source": [
    "Создайте любой файл на операционной системе под название input.txt и построчно перепишите его в файл output.txt."
   ]
  },
  {
   "cell_type": "code",
   "execution_count": 2,
   "metadata": {},
   "outputs": [],
   "source": [
    "fr = open('input.txt', 'rt', encoding='utf8')\n",
    "fw = open('output.txt', 'wt', encoding='utf8')\n",
    "lr = fr.readlines()\n",
    "fw.writelines(lr)\n",
    "fr.close()\n",
    "fw.close()\n",
    "    "
   ]
  },
  {
   "cell_type": "code",
   "execution_count": 10,
   "metadata": {},
   "outputs": [],
   "source": [
    "with open(\"number.txt\", \"r\") as input_file:\n",
    "    with open(\"output.txt\", \"w\") as output_file:\n",
    "        nr = input_file.readlines()\n",
    "        # nnr= nr.applay(lambda x: float(x))\n",
    "        nnr = [float(x) for x in nr]\n",
    "        sum = max(nnr) + min(nnr)\n",
    "        # print(sum)\n",
    "        output_file.write(str(sum))\n",
    "        "
   ]
  },
  {
   "cell_type": "markdown",
   "metadata": {},
   "source": [
    "В текстовый файл построчно записаны фамилии и имена учащихся класса и их оценки за контрольную. Подсчитайте количество учащихся, чья оценка меньше 3 баллов. Cодержание файла:"
   ]
  },
  {
   "cell_type": "code",
   "execution_count": 23,
   "metadata": {},
   "outputs": [
    {
     "name": "stdout",
     "output_type": "stream",
     "text": [
      "4\n"
     ]
    }
   ],
   "source": [
    "filename = 'input.txt'\n",
    "output = 'output.txt'\n",
    "\n",
    "with open(filename, \"r\", encoding='utf8') as input_file:\n",
    "    tn = input_file.readlines()\n",
    "    n3 = 0\n",
    "    for n in tn:\n",
    "        numbers = ''.join(c if c.isdigit() else ' ' for c in n)\n",
    "        if int(numbers.strip()) < 3:\n",
    "            n3 += 1           \n",
    "print(n3)"
   ]
  },
  {
   "cell_type": "code",
   "execution_count": 26,
   "metadata": {},
   "outputs": [
    {
     "name": "stdout",
     "output_type": "stream",
     "text": [
      "4\n"
     ]
    }
   ],
   "source": [
    "count = 0\n",
    "for line in open(\"input.txt\",\"r\", encoding='utf8'):\n",
    "    points = int(line.split()[-1])\n",
    "    if points < 3:\n",
    "        count += 1\n",
    "print(count)"
   ]
  },
  {
   "cell_type": "markdown",
   "metadata": {},
   "source": [
    "Выполните реверсирование строк файла (перестановку строк файла в обратном порядке)."
   ]
  },
  {
   "cell_type": "code",
   "execution_count": null,
   "metadata": {},
   "outputs": [],
   "source": [
    "with open(\"input.txt\", \"r\", encoding='utf8') as input_file:\n",
    "    with open(\"output.txt\", \"w\", encoding='utf8') as output_file:\n",
    "        for row_ in input_file:\n",
    "            nr = input_file.readline()\n",
    "            print(nr, type(nr))\n",
    "            output_file.write(nr[::-1])\n",
    "        "
   ]
  },
  {
   "cell_type": "code",
   "execution_count": 34,
   "metadata": {},
   "outputs": [],
   "source": [
    "with open(\"input.txt\", \"r\", encoding='utf8') as input_file:\n",
    "    with open(\"output.txt\", \"w\") as output_file:\n",
    "        for line in reversed(input_file.readlines()):\n",
    "            output_file.write(line)"
   ]
  },
  {
   "cell_type": "markdown",
   "metadata": {},
   "source": [
    "Создать скрипт, который будет в input() принимать строки, и их необходимо будет конвертировать в числа, добавить try-except на то, чтобы строки могли быть сконвертированы в числа.\n",
    "\n",
    "В случае удачного выполнения скрипта написать: «Вы ввели <введённое число>».\n",
    "\n",
    "В конце скрипта обязательно написать: «Выход из программы»."
   ]
  },
  {
   "cell_type": "code",
   "execution_count": 8,
   "metadata": {},
   "outputs": [
    {
     "name": "stdout",
     "output_type": "stream",
     "text": [
      "Number is not number\n",
      "Выход из программы\n"
     ]
    }
   ],
   "source": [
    "try:\n",
    "    num = float(input(\"Введите число:\"))\n",
    "except ValueError:\n",
    "    print('Number is not number')\n",
    "else:\n",
    "    print(f'Вы ввели {num}')\n",
    "finally:\n",
    "    print('Выход из программы')"
   ]
  },
  {
   "cell_type": "code",
   "execution_count": 1,
   "metadata": {},
   "outputs": [
    {
     "name": "stdout",
     "output_type": "stream",
     "text": [
      "Неправильный возраст\n"
     ]
    }
   ],
   "source": [
    "try:\n",
    "    age = int(input(\"Сколько тебе лет?\"))\n",
    "\n",
    "    if age > 100 or age <= 0:\n",
    "        raise ValueError(\"Тебе не может быть столько лет\")\n",
    "\n",
    "    # Возраст выводится только если пользователь ввёл правильный возраст.\n",
    "    print(f\"Тебе {age} лет!\")\n",
    "except ValueError:\n",
    "    print(\"Неправильный возраст\")"
   ]
  },
  {
   "cell_type": "code",
   "execution_count": 9,
   "metadata": {},
   "outputs": [
    {
     "name": "stdout",
     "output_type": "stream",
     "text": [
      "Hello from arithmetic error\n"
     ]
    }
   ],
   "source": [
    "try:\n",
    "    raise ZeroDivisionError  # возбуждаем исключение ZeroDivisionError\n",
    "except ArithmeticError:  # ловим его родителя\n",
    "    print(\"Hello from arithmetic error\")"
   ]
  },
  {
   "cell_type": "code",
   "execution_count": 10,
   "metadata": {},
   "outputs": [
    {
     "name": "stdout",
     "output_type": "stream",
     "text": [
      "Zero division error\n"
     ]
    }
   ],
   "source": [
    "try:\n",
    "    raise ZeroDivisionError\n",
    "except ZeroDivisionError:  # сначала пытаемся поймать потомка\n",
    "    print(\"Zero division error\")\n",
    "except ArithmeticError:  # потом ловим родителя\n",
    "    print(\"Arithmetic error\")"
   ]
  },
  {
   "cell_type": "code",
   "execution_count": 11,
   "metadata": {},
   "outputs": [
    {
     "name": "stdout",
     "output_type": "stream",
     "text": [
      "message\n"
     ]
    }
   ],
   "source": [
    "class MyException(Exception):  # создаём пустой класс исключения \n",
    "    pass\n",
    "\n",
    " \n",
    "try:\n",
    "    raise MyException(\"message\")  # поднимаем наше исключение\n",
    "except MyException as e:  # ловим его\n",
    "    print(e)  # выводим информацию об исключении"
   ]
  },
  {
   "cell_type": "code",
   "execution_count": 12,
   "metadata": {},
   "outputs": [
    {
     "name": "stdout",
     "output_type": "stream",
     "text": [
      "This is Child\n"
     ]
    }
   ],
   "source": [
    "class ParentException(Exception):  # создаём пустой класс исключения, наследуемся от exception\n",
    "    pass\n",
    "\n",
    " \n",
    "class ChildException(ParentException):  # создаём пустой класс исключения-потомка, наследуемся от ParentException\n",
    "    pass\n",
    "\n",
    " \n",
    "try:\n",
    "    raise ChildException(\"This is Child\")  # поднимаем исключение-потомок\n",
    "except ParentException as e:  # ловим его родителя\n",
    "    print(e)  # выводим информацию об исключении"
   ]
  },
  {
   "cell_type": "markdown",
   "metadata": {},
   "source": [
    "Создайте класс Square. Добавьте в конструктор класса Square собственное исключение NonPositiveDigitException, унаследованное от ValueError, которое будет срабатывать каждый раз, когда сторона квадрата меньше или равна 0."
   ]
  },
  {
   "cell_type": "code",
   "execution_count": null,
   "metadata": {},
   "outputs": [],
   "source": [
    "class Square():\n",
    "    def __init__(self, a):  # допишем к нашему пустому классу конструктор, который будет печатать дополнительно в консоль информацию об ошибке.\n",
    "       if a < 0:\n",
    "           raise  NonPositiveDigitException(\"Non That\")\n",
    "               \n",
    "class NonPositiveDigitException(ValueError):\n",
    "    pass"
   ]
  },
  {
   "cell_type": "code",
   "execution_count": null,
   "metadata": {},
   "outputs": [],
   "source": [
    "class NonPositiveDigitException(ValueError):\n",
    "    pass\n",
    " \n",
    "class Square():\n",
    "    def __init__(self, a):\n",
    "        if a <= 0:\n",
    "            raise NonPositiveDigitException('Неправильно указана сторона квадрата')"
   ]
  },
  {
   "cell_type": "markdown",
   "metadata": {},
   "source": [
    "<strong> Markdown </strong> — простой язык разметки."
   ]
  },
  {
   "cell_type": "markdown",
   "metadata": {},
   "source": [
    "# Markdown textt\n",
    "**normal text**\n",
    "###  Text semifat \n",
    "$ formula: a_{i+1} = a_{i} +10 $\n"
   ]
  }
 ],
 "metadata": {
  "kernelspec": {
   "display_name": "Python 3",
   "language": "python",
   "name": "python3"
  },
  "language_info": {
   "codemirror_mode": {
    "name": "ipython",
    "version": 3
   },
   "file_extension": ".py",
   "mimetype": "text/x-python",
   "name": "python",
   "nbconvert_exporter": "python",
   "pygments_lexer": "ipython3",
   "version": "3.12.0"
  }
 },
 "nbformat": 4,
 "nbformat_minor": 2
}
